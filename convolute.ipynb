{
  "nbformat": 4,
  "nbformat_minor": 0,
  "metadata": {
    "colab": {
      "provenance": [],
      "gpuType": "T4"
    },
    "kernelspec": {
      "name": "python3",
      "display_name": "Python 3"
    },
    "language_info": {
      "name": "python"
    },
    "accelerator": "GPU"
  },
  "cells": [
    {
      "cell_type": "code",
      "source": [
        "!pip install pillow ipywidgets matplotlib\n"
      ],
      "metadata": {
        "id": "hSVCE1S6JOak"
      },
      "execution_count": null,
      "outputs": []
    },
    {
      "cell_type": "code",
      "execution_count": null,
      "metadata": {
        "id": "Ios8Y2DMI1h4"
      },
      "outputs": [],
      "source": [
        "import numpy as np\n",
        "import matplotlib.pyplot as plt\n",
        "from ipywidgets import interact, FloatSlider, Dropdown, FileUpload\n",
        "from PIL import Image\n",
        "from scipy.ndimage import convolve\n",
        "import io\n"
      ]
    },
    {
      "cell_type": "code",
      "source": [
        "filters = {\n",
        "    \"Identity\": np.array([[0, 0, 0], [0, 1, 0], [0, 0, 0]]),\n",
        "    \"Edge Detection\": np.array([[-1, -1, -1], [-1, 8, -1], [-1, -1, -1]]),\n",
        "    \"Box Blur\": (1/9) * np.ones((3, 3)),\n",
        "    \"Gaussian Blur\": (1/16) * np.array([[1, 2, 1], [2, 4, 2], [1, 2, 1]]),\n",
        "    \"Sharpen\": np.array([[0, -1, 0], [-1, 5,-1], [0, -1, 0]])\n",
        "}\n"
      ],
      "metadata": {
        "id": "K-H2d_t7JACY"
      },
      "execution_count": null,
      "outputs": []
    },
    {
      "cell_type": "code",
      "source": [
        "def process_image(image_data, size=(128, 128)):\n",
        "    image = Image.open(io.BytesIO(image_data)).convert('L')\n",
        "    image = image.resize(size)\n",
        "    return np.array(image) / 255.0\n"
      ],
      "metadata": {
        "id": "kil9-q8OJCjo"
      },
      "execution_count": null,
      "outputs": []
    },
    {
      "cell_type": "code",
      "source": [
        "def show_convolution(uploaded_file, kernel_name):\n",
        "    if not uploaded_file:\n",
        "        print(\"Please upload an image.\")\n",
        "        return\n",
        "\n",
        "    image_data = list(uploaded_file.values())[0]['content']\n",
        "    img = process_image(image_data)\n",
        "    kernel = filters[kernel_name]\n",
        "    result = convolve(img, kernel, mode='constant', cval=0.0)\n",
        "\n",
        "    fig, axs = plt.subplots(1, 2, figsize=(10, 5))\n",
        "    axs[0].imshow(img, cmap='gray')\n",
        "    axs[0].set_title(\"Original Image\")\n",
        "    axs[0].axis('off')\n",
        "\n",
        "    axs[1].imshow(result, cmap='gray')\n",
        "    axs[1].set_title(f\"After Convolution: {kernel_name}\")\n",
        "    axs[1].axis('off')\n",
        "\n",
        "    plt.show()\n"
      ],
      "metadata": {
        "id": "xnFq4NvnJEBb"
      },
      "execution_count": null,
      "outputs": []
    },
    {
      "cell_type": "code",
      "source": [
        "upload_widget = FileUpload(accept='image/*', multiple=False)\n",
        "interact(\n",
        "    show_convolution,\n",
        "    uploaded_file=upload_widget,\n",
        "    kernel_name=Dropdown(options=filters.keys(), value=\"Edge Detection\", description=\"Kernel:\")\n",
        ");\n"
      ],
      "metadata": {
        "id": "KCGsV65MJFmL"
      },
      "execution_count": null,
      "outputs": []
    }
  ]
}